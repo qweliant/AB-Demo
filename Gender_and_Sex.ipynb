{
  "nbformat": 4,
  "nbformat_minor": 0,
  "metadata": {
    "colab": {
      "name": "Gender and Sex",
      "provenance": [],
      "collapsed_sections": [],
      "include_colab_link": true
    },
    "kernelspec": {
      "name": "python3",
      "display_name": "Python 3"
    }
  },
  "cells": [
    {
      "cell_type": "markdown",
      "metadata": {
        "id": "view-in-github",
        "colab_type": "text"
      },
      "source": [
        "<a href=\"https://colab.research.google.com/github/qweliant/AB-Demo/blob/master/Gender_and_Sex.ipynb\" target=\"_parent\"><img src=\"https://colab.research.google.com/assets/colab-badge.svg\" alt=\"Open In Colab\"/></a>"
      ]
    },
    {
      "cell_type": "code",
      "metadata": {
        "id": "ZM8XS9rrHAds",
        "colab_type": "code",
        "colab": {}
      },
      "source": [
        "import pandas as pd\n",
        "import numpy as np\n",
        "import matplotlib.pyplot as plt\n",
        "from scipy import stats\n",
        "import seaborn as sns"
      ],
      "execution_count": 0,
      "outputs": []
    },
    {
      "cell_type": "code",
      "metadata": {
        "id": "FPwu8eqpMa9Y",
        "colab_type": "code",
        "colab": {}
      },
      "source": [
        "api_ny3 = \"https://raw.githubusercontent.com/qweliant/GenderAndSex/master/pcs2017.csv?token=AII7DUM3YSLYA57HMAZSM525SEIPA\" \n",
        "gns = pd.read_csv(api_ny3)\n",
        "print(gns.shape)\n",
        "gns.head()"
      ],
      "execution_count": 0,
      "outputs": []
    },
    {
      "cell_type": "code",
      "metadata": {
        "id": "BWMFO0FnqE2e",
        "colab_type": "code",
        "colab": {}
      },
      "source": [
        "gns.Sex.unique()"
      ],
      "execution_count": 0,
      "outputs": []
    },
    {
      "cell_type": "code",
      "metadata": {
        "id": "OTVaDJxo4GSH",
        "colab_type": "code",
        "colab": {}
      },
      "source": [
        "gns.Transgender.unique()"
      ],
      "execution_count": 0,
      "outputs": []
    },
    {
      "cell_type": "code",
      "metadata": {
        "id": "NqVs4Xv84M1h",
        "colab_type": "code",
        "colab": {}
      },
      "source": [
        "gns['Sexual Orientation'].unique()"
      ],
      "execution_count": 0,
      "outputs": []
    },
    {
      "cell_type": "code",
      "metadata": {
        "id": "X--kJO3o4msE",
        "colab_type": "code",
        "colab": {}
      },
      "source": [
        "gns['Sex'] = gns.Sex.str.lower()\n",
        "gns['Transgender'] = gns.Transgender.str.lower()\n",
        "gns['Sexual Orientation'] = gns['Sexual Orientation'].str.lower()\n"
      ],
      "execution_count": 0,
      "outputs": []
    },
    {
      "cell_type": "code",
      "metadata": {
        "id": "6MwdE0mZ53Yo",
        "colab_type": "code",
        "colab": {}
      },
      "source": [
        "new_values1 = { \n",
        "    \"straight or heterosexual\" : \"heterosexual\",\n",
        "    \"lesbian or gay\" : \"homosexual\",\n",
        "    \"bisexual\" : \"bi\",\n",
        "    \"client did not answer\" : \"no answer\",\n",
        "    \"unknown\" : \"unknown\",\n",
        "    \"no, not transgender\" : \"no\",\n",
        "    \"yes, transgender\" : \"yes\"\n",
        "    }\n",
        "gns.replace(new_values1, inplace=True)\n",
        "\n"
      ],
      "execution_count": 0,
      "outputs": []
    },
    {
      "cell_type": "code",
      "metadata": {
        "id": "jN8cMf8xL6dF",
        "colab_type": "code",
        "colab": {}
      },
      "source": [
        "gns.head()"
      ],
      "execution_count": 0,
      "outputs": []
    },
    {
      "cell_type": "code",
      "metadata": {
        "id": "Hntz2eXuMiEh",
        "colab_type": "code",
        "colab": {}
      },
      "source": [
        "ct = pd.crosstab( gns['Sexual Orientation'], gns['Sex'], margins=True)"
      ],
      "execution_count": 0,
      "outputs": []
    },
    {
      "cell_type": "code",
      "metadata": {
        "id": "zHdh8U2CNBDF",
        "colab_type": "code",
        "colab": {}
      },
      "source": [
        "ct2 = pd.crosstab( gns['Sexual Orientation'], gns['Transgender'],margins=True)"
      ],
      "execution_count": 0,
      "outputs": []
    },
    {
      "cell_type": "code",
      "metadata": {
        "id": "KItX78tBc2S9",
        "colab_type": "code",
        "colab": {}
      },
      "source": [
        "ct"
      ],
      "execution_count": 0,
      "outputs": []
    },
    {
      "cell_type": "code",
      "metadata": {
        "id": "TOwoJ3D4dQVT",
        "colab_type": "code",
        "colab": {}
      },
      "source": [
        "ct2\n",
        "\n",
        "#this crosstab is cunfusing so i should split between trans or not"
      ],
      "execution_count": 0,
      "outputs": []
    },
    {
      "cell_type": "code",
      "metadata": {
        "id": "7-ST8w52gemt",
        "colab_type": "code",
        "colab": {}
      },
      "source": [
        "trans_gns = gns[gns.Transgender == 'yes']\n",
        "fem_trans_gns = trans_gns[trans_gns.Sex == 'female']\n",
        "male_trans_gns = trans_gns[trans_gns.Sex == 'male']\n",
        "\n",
        "no_trans = gns[gns.Transgender == 'no']\n",
        "fem_no_trans = no_trans[no_trans.Sex == 'female']\n",
        "male_no_trans = no_trans[no_trans.Sex == 'male']\n"
      ],
      "execution_count": 0,
      "outputs": []
    },
    {
      "cell_type": "code",
      "metadata": {
        "colab_type": "code",
        "id": "o88jfFKZt_rs",
        "colab": {}
      },
      "source": [
        ""
      ],
      "execution_count": 0,
      "outputs": []
    },
    {
      "cell_type": "code",
      "metadata": {
        "id": "5C0gzfARuDVw",
        "colab_type": "code",
        "colab": {}
      },
      "source": [
        "trans_gns_ct = pd.crosstab( trans_gns['Sexual Orientation'], trans_gns['Sex'], margins=True)\n",
        "fem_trans_gns_ct = pd.crosstab(fem_trans_gns['Sexual Orientation'], fem_trans_gns['Sex'], margins=True)\n",
        "male_trans_gns_ct = pd.crosstab(male_trans_gns['Sexual Orientation'], male_trans_gns['Sex'], margins=True)\n",
        "\n",
        "no_trans_gns_ct = pd.crosstab(no_trans['Sexual Orientation'], no_trans['Sex'], margins=True)\n",
        "fem_no_trans_gns_ct = pd.crosstab(fem_no_trans['Sexual Orientation'], fem_no_trans['Sex'], margins=True)\n",
        "male_no_trans_gns_ct = pd.crosstab(male_no_trans['Sexual Orientation'], male_no_trans['Sex'], margins=True)\n"
      ],
      "execution_count": 0,
      "outputs": []
    },
    {
      "cell_type": "code",
      "metadata": {
        "id": "TTPyIQeErhTx",
        "colab_type": "code",
        "colab": {}
      },
      "source": [
        " labels = list(trans_gns['Sexual Orientation'].unique())\n",
        " print(labels)"
      ],
      "execution_count": 0,
      "outputs": []
    },
    {
      "cell_type": "code",
      "metadata": {
        "id": "Jg3v9Nk-8cCj",
        "colab_type": "code",
        "colab": {}
      },
      "source": [
        "trans_gns_ct"
      ],
      "execution_count": 0,
      "outputs": []
    },
    {
      "cell_type": "code",
      "metadata": {
        "id": "W9SikJ3K6RRC",
        "colab_type": "code",
        "colab": {}
      },
      "source": [
        "trans_gns_ct.loc['bi':'unknown', 'female':'male'].plot.bar()\n",
        "z = pd.DataFrame(trans_gns_ct.loc['bi':'unknown', 'female':'male'])"
      ],
      "execution_count": 0,
      "outputs": []
    },
    {
      "cell_type": "code",
      "metadata": {
        "id": "2VLynD01vr3b",
        "colab_type": "code",
        "colab": {}
      },
      "source": [
        "ax = sns.heatmap(z)"
      ],
      "execution_count": 0,
      "outputs": []
    },
    {
      "cell_type": "code",
      "metadata": {
        "id": "HZhDnpvL-GtJ",
        "colab_type": "code",
        "colab": {}
      },
      "source": [
        "no_trans_gns_ct"
      ],
      "execution_count": 0,
      "outputs": []
    },
    {
      "cell_type": "code",
      "metadata": {
        "id": "lzC8bUIAfr06",
        "colab_type": "code",
        "colab": {}
      },
      "source": [
        "fem_trans_gns_ct"
      ],
      "execution_count": 0,
      "outputs": []
    },
    {
      "cell_type": "code",
      "metadata": {
        "id": "kA0sxdRJ8hu2",
        "colab_type": "code",
        "colab": {}
      },
      "source": [
        "male_trans_gns_ct"
      ],
      "execution_count": 0,
      "outputs": []
    },
    {
      "cell_type": "code",
      "metadata": {
        "id": "GGXxj5rh9LpY",
        "colab_type": "code",
        "colab": {}
      },
      "source": [
        "fem_no_trans_gns_ct"
      ],
      "execution_count": 0,
      "outputs": []
    },
    {
      "cell_type": "code",
      "metadata": {
        "id": "4X0dMy6m9NWl",
        "colab_type": "code",
        "colab": {}
      },
      "source": [
        "male_no_trans_gns_ct"
      ],
      "execution_count": 0,
      "outputs": []
    },
    {
      "cell_type": "code",
      "metadata": {
        "id": "SrbTai9i96Al",
        "colab_type": "code",
        "colab": {}
      },
      "source": [
        "from numpy import var"
      ],
      "execution_count": 0,
      "outputs": []
    },
    {
      "cell_type": "markdown",
      "metadata": {
        "id": "S2P-mPlFbGdt",
        "colab_type": "text"
      },
      "source": [
        "# This section provides statistical signifigance to the sex data"
      ]
    },
    {
      "cell_type": "code",
      "metadata": {
        "id": "8nylD9YboLbv",
        "colab_type": "code",
        "colab": {}
      },
      "source": [
        "#returns percenatge from input of list \n",
        "def stats_return(nums, total):\n",
        "    pctg = [x/total for x in nums]\n",
        "    return pctg, np.var(nums), np.std(nums)\n",
        "\n",
        "def sum_and_total(crosstab):\n",
        "    _sum_ = crosstab.iloc[ 0:6, 0].values\n",
        "    total = crosstab.iloc[0:7,0].values\n",
        "    total = total[-1]\n",
        "    return _sum_, total"
      ],
      "execution_count": 0,
      "outputs": []
    },
    {
      "cell_type": "code",
      "metadata": {
        "id": "JfBoL4N3W2y7",
        "colab_type": "code",
        "colab": {}
      },
      "source": [
        "sum_fem_trans, total1 = sum_and_total(fem_trans_gns_ct)\n",
        "pctg1, vari1, std1 = stats_return(sum_fem_trans, total1)\n",
        "\n",
        "print('List of numbers:', sum_fem_trans)\n",
        "print('Totals:', total1)\n",
        "print('Percentages:', pctg1)\n",
        "print('Variance:', vari1)\n",
        "print('Standard Deviation:', std1)"
      ],
      "execution_count": 0,
      "outputs": []
    },
    {
      "cell_type": "code",
      "metadata": {
        "id": "JeDhtMa3AWoY",
        "colab_type": "code",
        "colab": {}
      },
      "source": [
        "sum_male_trans, total2 = sum_and_total(male_trans_gns_ct)\n",
        "pctg2, vari2, std2 = stats_return(sum_male_trans, total2)\n",
        "\n",
        "print('List of numbers:', sum_male_trans)\n",
        "print('Totals:', total2)\n",
        "print('Percentages:', pctg2)\n",
        "print('Variance:', vari2)\n",
        "print('Standard Deviation:', std2)"
      ],
      "execution_count": 0,
      "outputs": []
    },
    {
      "cell_type": "code",
      "metadata": {
        "id": "bwnJ-jELW26V",
        "colab_type": "code",
        "colab": {}
      },
      "source": [
        "sum_fem_no_trans, total3 = sum_and_total(fem_no_trans_gns_ct)\n",
        "pctg3, vari3, std3 = stats_return(sum_fem_no_trans, total3)\n",
        "\n",
        "print('List of numbers:', sum_fem_no_trans)\n",
        "print('Totals:', total3)\n",
        "print('Percentages:', pctg3)\n",
        "print('Variance:', vari3)\n",
        "print('Standard Deviation:', std3)"
      ],
      "execution_count": 0,
      "outputs": []
    },
    {
      "cell_type": "code",
      "metadata": {
        "id": "KLz8-BsFW3BD",
        "colab_type": "code",
        "colab": {}
      },
      "source": [
        "sum_male_no_trans, total4 = sum_and_total(male_no_trans_gns_ct)\n",
        "pctg4, vari4, std4 = stats_return(sum_male_no_trans, total4)\n",
        "\n",
        "print('List of numbers:', sum_male_no_trans)\n",
        "print('Totals:', total4)\n",
        "print('Percentages:', pctg4)\n",
        "print('Variance:', vari4)\n",
        "print('Standard Deviation:', std4)"
      ],
      "execution_count": 0,
      "outputs": []
    },
    {
      "cell_type": "code",
      "metadata": {
        "id": "4pLwT0RQW3K1",
        "colab_type": "code",
        "colab": {}
      },
      "source": [
        "sum_no_trans, total5 = sum_and_total(no_trans_gns_ct)\n",
        "pctg5, vari5, std5 = stats_return(sum_no_trans, total5)\n",
        "\n",
        "sum_no_trans = no_trans_gns_ct.iloc[ 0:6, 3].values\n",
        "\n",
        "total5 = trans_gns_ct.iloc[ 0:7, 3].values\n",
        "total5 = total5[-1]\n",
        "\n",
        "\n",
        "print('List of numbers:', sum_no_trans)\n",
        "print('Totals:', total5)\n",
        "print('Percentages:', pctg5)\n",
        "print('Variance:', vari5)\n",
        "print('Standard Deviation:', std5)"
      ],
      "execution_count": 0,
      "outputs": []
    },
    {
      "cell_type": "code",
      "metadata": {
        "id": "BjlajWujDh9K",
        "colab_type": "code",
        "colab": {}
      },
      "source": [
        "sum_trans = trans_gns_ct.iloc[ 0:6, 3].values\n",
        "\n",
        "total6 = trans_gns_ct.iloc[ 0:7, 3].values\n",
        "total6 = total6[-1]\n",
        "\n",
        "pctg6, vari6, std6 = stats_return(sum_trans, total6)\n",
        "\n",
        "print('List of numbers:', sum_trans)\n",
        "print('Totals:', total6)\n",
        "print('Percentages:', pctg6)\n",
        "print('Variance:', vari6)\n",
        "print('Standard Deviation:', std6)"
      ],
      "execution_count": 0,
      "outputs": []
    },
    {
      "cell_type": "code",
      "metadata": {
        "id": "CyKXc7SSwz0W",
        "colab_type": "code",
        "colab": {}
      },
      "source": [
        ""
      ],
      "execution_count": 0,
      "outputs": []
    },
    {
      "cell_type": "code",
      "metadata": {
        "id": "Nst0u9z6-zx-",
        "colab_type": "code",
        "colab": {}
      },
      "source": [
        ""
      ],
      "execution_count": 0,
      "outputs": []
    }
  ]
}