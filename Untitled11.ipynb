{
  "nbformat": 4,
  "nbformat_minor": 0,
  "metadata": {
    "colab": {
      "name": "Untitled11.ipynb",
      "provenance": [],
      "collapsed_sections": [],
      "authorship_tag": "ABX9TyNkwYZbSNyFUMdZtwz1gkdn",
      "include_colab_link": true
    },
    "kernelspec": {
      "name": "python3",
      "display_name": "Python 3"
    }
  },
  "cells": [
    {
      "cell_type": "markdown",
      "metadata": {
        "id": "view-in-github",
        "colab_type": "text"
      },
      "source": [
        "<a href=\"https://colab.research.google.com/github/qweliant/AB-Demo/blob/master/Untitled11.ipynb\" target=\"_parent\"><img src=\"https://colab.research.google.com/assets/colab-badge.svg\" alt=\"Open In Colab\"/></a>"
      ]
    },
    {
      "cell_type": "markdown",
      "metadata": {
        "id": "3yS6FGw3zbAR",
        "colab_type": "text"
      },
      "source": [
        "## For Loops and if statements"
      ]
    },
    {
      "cell_type": "code",
      "metadata": {
        "id": "vAj5N6qDyI1t",
        "colab_type": "code",
        "colab": {}
      },
      "source": [
        "list_1 = [1,'23','90','7','79',3232323, ['8675309', .0007]]\n",
        "list_2 = [1,2,4,5,7,8,9,23,4]"
      ],
      "execution_count": 0,
      "outputs": []
    },
    {
      "cell_type": "code",
      "metadata": {
        "id": "qnbUs6leylhO",
        "colab_type": "code",
        "outputId": "2df5ce41-53cc-42dc-d844-d1967d11dfc0",
        "colab": {
          "base_uri": "https://localhost:8080/",
          "height": 1000
        }
      },
      "source": [
        "import random\n",
        "print(random.randint(1,10))\n",
        "\n",
        "list_1 = [random.randint(1,9000) for i in range(70)]\n",
        "list_2 = [random.randint(1,9000) for i in range(70)]\n",
        "\n",
        "predictions = [{\"x\": list_1[index], \"y\": list_2[index]} for index in range(len(list_1))]\n",
        "predictions"
      ],
      "execution_count": 0,
      "outputs": [
        {
          "output_type": "stream",
          "text": [
            "5\n"
          ],
          "name": "stdout"
        },
        {
          "output_type": "execute_result",
          "data": {
            "text/plain": [
              "[{'x': 2503, 'y': 7561},\n",
              " {'x': 4018, 'y': 600},\n",
              " {'x': 7282, 'y': 769},\n",
              " {'x': 6673, 'y': 1617},\n",
              " {'x': 7941, 'y': 7569},\n",
              " {'x': 6335, 'y': 4333},\n",
              " {'x': 4333, 'y': 1887},\n",
              " {'x': 584, 'y': 497},\n",
              " {'x': 6762, 'y': 1023},\n",
              " {'x': 7629, 'y': 7},\n",
              " {'x': 1643, 'y': 6918},\n",
              " {'x': 8786, 'y': 658},\n",
              " {'x': 8515, 'y': 1385},\n",
              " {'x': 545, 'y': 670},\n",
              " {'x': 3676, 'y': 6805},\n",
              " {'x': 3796, 'y': 5118},\n",
              " {'x': 4506, 'y': 5629},\n",
              " {'x': 1022, 'y': 6537},\n",
              " {'x': 2675, 'y': 1358},\n",
              " {'x': 5034, 'y': 8341},\n",
              " {'x': 3258, 'y': 943},\n",
              " {'x': 5831, 'y': 7035},\n",
              " {'x': 8283, 'y': 444},\n",
              " {'x': 7099, 'y': 1614},\n",
              " {'x': 6501, 'y': 1951},\n",
              " {'x': 2372, 'y': 3907},\n",
              " {'x': 5027, 'y': 7033},\n",
              " {'x': 5073, 'y': 404},\n",
              " {'x': 3326, 'y': 1160},\n",
              " {'x': 8646, 'y': 866},\n",
              " {'x': 4430, 'y': 8309},\n",
              " {'x': 2442, 'y': 871},\n",
              " {'x': 2733, 'y': 6101},\n",
              " {'x': 6719, 'y': 5992},\n",
              " {'x': 5854, 'y': 1923},\n",
              " {'x': 7325, 'y': 5531},\n",
              " {'x': 5582, 'y': 8156},\n",
              " {'x': 1095, 'y': 3973},\n",
              " {'x': 6517, 'y': 438},\n",
              " {'x': 4780, 'y': 4042},\n",
              " {'x': 8221, 'y': 8329},\n",
              " {'x': 6944, 'y': 2413},\n",
              " {'x': 6429, 'y': 70},\n",
              " {'x': 1013, 'y': 8767},\n",
              " {'x': 2915, 'y': 514},\n",
              " {'x': 3192, 'y': 5126},\n",
              " {'x': 2458, 'y': 1846},\n",
              " {'x': 4337, 'y': 8929},\n",
              " {'x': 5029, 'y': 4578},\n",
              " {'x': 284, 'y': 33},\n",
              " {'x': 5199, 'y': 8661},\n",
              " {'x': 6167, 'y': 8962},\n",
              " {'x': 2065, 'y': 8428},\n",
              " {'x': 8497, 'y': 2607},\n",
              " {'x': 7070, 'y': 3890},\n",
              " {'x': 1572, 'y': 4655},\n",
              " {'x': 483, 'y': 6046},\n",
              " {'x': 3548, 'y': 6815},\n",
              " {'x': 61, 'y': 6017},\n",
              " {'x': 2626, 'y': 3292},\n",
              " {'x': 7965, 'y': 52},\n",
              " {'x': 1727, 'y': 8584},\n",
              " {'x': 6161, 'y': 2824},\n",
              " {'x': 7138, 'y': 3972},\n",
              " {'x': 1696, 'y': 6175},\n",
              " {'x': 510, 'y': 873},\n",
              " {'x': 867, 'y': 4746},\n",
              " {'x': 210, 'y': 482},\n",
              " {'x': 2469, 'y': 8054},\n",
              " {'x': 3009, 'y': 1175}]"
            ]
          },
          "metadata": {
            "tags": []
          },
          "execution_count": 4
        }
      ]
    },
    {
      "cell_type": "markdown",
      "metadata": {
        "id": "CaUWmvpB0Xv3",
        "colab_type": "text"
      },
      "source": [
        "## As long as the data structure is an iterable, you can run it through a for loop"
      ]
    },
    {
      "cell_type": "code",
      "metadata": {
        "id": "K1_3fcvmzzIP",
        "colab_type": "code",
        "colab": {}
      },
      "source": [
        "# access each value in a list\n",
        "for i in list_1:\n",
        "    print(f\"Value: {i}\")\n",
        "\n",
        "print('\\n\\n')\n",
        "\n",
        "# add each value to exisiting list\n",
        "print(f\"Before: {list_2}\")\n",
        "\n",
        "for i in list_1:\n",
        "    list_2.append(i)\n",
        "    print(f\"Added {i}\")\n",
        "\n",
        "print(f\"After: {list_2}\")"
      ],
      "execution_count": 0,
      "outputs": []
    },
    {
      "cell_type": "markdown",
      "metadata": {
        "id": "OEFKOHGn8RUP",
        "colab_type": "text"
      },
      "source": [
        "### For loop is this simple. But it can be prettier with list comp\n"
      ]
    },
    {
      "cell_type": "code",
      "metadata": {
        "id": "fbsqUiyX8edR",
        "colab_type": "code",
        "colab": {}
      },
      "source": [
        "list_1 = [1,'23','90','7','79',3232323, ['8675309', .0007]]\n",
        "list_2 = [1,2,4,5,7,8,9,23,4]"
      ],
      "execution_count": 0,
      "outputs": []
    },
    {
      "cell_type": "code",
      "metadata": {
        "id": "yfYFOQSt60Uh",
        "colab_type": "code",
        "colab": {}
      },
      "source": [
        "test = [print(i) for i in list_2]"
      ],
      "execution_count": 0,
      "outputs": []
    },
    {
      "cell_type": "code",
      "metadata": {
        "id": "kJL_ZdWg9kkV",
        "colab_type": "code",
        "colab": {}
      },
      "source": [
        "test_2 = [print(i) and list_2.append(i) for i in list_1]"
      ],
      "execution_count": 0,
      "outputs": []
    },
    {
      "cell_type": "code",
      "metadata": {
        "id": "ouVFgRQJ9Te8",
        "colab_type": "code",
        "colab": {}
      },
      "source": [
        "print(list_2)"
      ],
      "execution_count": 0,
      "outputs": []
    },
    {
      "cell_type": "code",
      "metadata": {
        "id": "LYc1iXvNJphq",
        "colab_type": "code",
        "colab": {}
      },
      "source": [
        "list_2 = [1,2,4,5,7,8,9,23,4]\n"
      ],
      "execution_count": 0,
      "outputs": []
    },
    {
      "cell_type": "markdown",
      "metadata": {
        "id": "eIODGC1m-vSw",
        "colab_type": "text"
      },
      "source": [
        "###### In python, all data structures are inherited from an an object. \n",
        "###### data structures will be sets, list, tuples, queues ,and dictionaries"
      ]
    },
    {
      "cell_type": "code",
      "metadata": {
        "id": "nthLoELrC4lM",
        "colab_type": "code",
        "colab": {}
      },
      "source": [
        "from collections import deque\n",
        "\n",
        "\"\"\"\n",
        "^              ^\n",
        "|queue behavior|\n",
        "\n",
        "1 2 3 4 5 6 \n",
        "\n",
        "FIFO\n",
        "\"\"\""
      ],
      "execution_count": 0,
      "outputs": []
    },
    {
      "cell_type": "code",
      "metadata": {
        "id": "1ZLhPTF_C8I_",
        "colab_type": "code",
        "colab": {}
      },
      "source": [
        "queue = deque([\"Eric\", \"John\", \"Michael\"])\n",
        "tupes = 0xFFF, 0xAB, 0xBABBC\n",
        "myset = set(['Grab', 'Take', 'Put','Place'])"
      ],
      "execution_count": 0,
      "outputs": []
    },
    {
      "cell_type": "code",
      "metadata": {
        "id": "2EMSok2aGecT",
        "colab_type": "code",
        "colab": {}
      },
      "source": [
        "# cant hash mutable types\n",
        "\n",
        "_dict_ = {\n",
        "    \"key_0\": list_1,\n",
        "    \"key_1\": list_2,\n",
        "    \"key_3\": test_2,\n",
        "    \"q_obj\": queue,\n",
        "    \"tuple\": tupes,\n",
        "    0: myset,\n",
        "    tupes: myset\n",
        "}"
      ],
      "execution_count": 0,
      "outputs": []
    },
    {
      "cell_type": "code",
      "metadata": {
        "id": "2ZtSkozSJri2",
        "colab_type": "code",
        "colab": {}
      },
      "source": [
        "# from two objects\n",
        "\n",
        "for q, p in zip(queue, list_1):\n",
        "    print(q, p)"
      ],
      "execution_count": 0,
      "outputs": []
    },
    {
      "cell_type": "code",
      "metadata": {
        "id": "-ONy9mupJpFz",
        "colab_type": "code",
        "colab": {}
      },
      "source": [
        "# print in dict and list\n",
        "for q, d in zip(_dict_, list_1):\n",
        "    print(q, d)"
      ],
      "execution_count": 0,
      "outputs": []
    },
    {
      "cell_type": "code",
      "metadata": {
        "id": "htIYxxMHrSDs",
        "colab_type": "code",
        "colab": {}
      },
      "source": [
        "def mean(nums):\n",
        "    \"\"\"\n",
        "    returns mean of list\n",
        "    \"\"\"\n",
        "    m = sum(nums)/len(nums)\n",
        "    return m\n",
        "\n",
        "def variance(nums):\n",
        "    \"\"\"\n",
        "    returns variance of list\n",
        "    \"\"\"\n",
        "    m = mean(nums)\n",
        "    diff = [x - m for x in nums]\n",
        "    diff_2 = [x**2 for x in diff]\n",
        "    sum_diff = sum(diff_2)\n",
        "    n = len(nums)\n",
        "    v = sum_diff / n\n",
        "\n",
        "    return v\n",
        "\n",
        "def standard_dev(num):\n",
        "    return variance(nums)**2"
      ],
      "execution_count": 0,
      "outputs": []
    },
    {
      "cell_type": "code",
      "metadata": {
        "id": "10SoOOCBI91Z",
        "colab_type": "code",
        "colab": {}
      },
      "source": [
        "m = mean(list_2)\n",
        "print(f\"Mean: {m}\")\n",
        "\n",
        "v = variance(list_2)\n",
        "print(f\"Variance: {v}\")\n"
      ],
      "execution_count": 0,
      "outputs": []
    },
    {
      "cell_type": "code",
      "metadata": {
        "id": "sxN77O1bI7cb",
        "colab_type": "code",
        "colab": {}
      },
      "source": [
        "for k, v in _dict_.items():\n",
        "    print(k, v)"
      ],
      "execution_count": 0,
      "outputs": []
    },
    {
      "cell_type": "markdown",
      "metadata": {
        "id": "Eh2twAxWYaz7",
        "colab_type": "text"
      },
      "source": [
        "# Writing Frunctions"
      ]
    },
    {
      "cell_type": "code",
      "metadata": {
        "id": "37YBKFJmDOra",
        "colab_type": "code",
        "colab": {}
      },
      "source": [
        "def is_even(n): \n",
        "    if n%2 == 0: \n",
        "        return \"Yes\"\n",
        "    else: \n",
        "        return \"Nah\""
      ],
      "execution_count": 0,
      "outputs": []
    },
    {
      "cell_type": "code",
      "metadata": {
        "id": "QGIiALO-Txjv",
        "colab_type": "code",
        "colab": {}
      },
      "source": [
        "import numpy as np\n",
        "import matplotlib.pyplot as plt"
      ],
      "execution_count": 0,
      "outputs": []
    },
    {
      "cell_type": "code",
      "metadata": {
        "id": "1Z7afWtSazqt",
        "colab_type": "code",
        "colab": {}
      },
      "source": [
        "import pandas as pd\n",
        "import numpy as np\n",
        "import matplotlib.pyplot as plt\n",
        "from sklearn.decomposition import PCA # You don't necessarily have to use this\n",
        "from sklearn.cluster import KMeans # You don't necessarily have to use this\n",
        "from sklearn.preprocessing import StandardScaler # You don't necessarily have to use this\n",
        "\n",
        "df = pd.read_csv(\"https://raw.githubusercontent.com/ryanleeallred/datasets/master/Cancer_Cells.csv\")\n",
        "print(df.shape)\n",
        "df.head()"
      ],
      "execution_count": 0,
      "outputs": []
    },
    {
      "cell_type": "code",
      "metadata": {
        "id": "zYDg5uLKbuDK",
        "colab_type": "code",
        "colab": {}
      },
      "source": [
        ""
      ],
      "execution_count": 0,
      "outputs": []
    },
    {
      "cell_type": "code",
      "metadata": {
        "id": "hKP3_VeRTa2u",
        "colab_type": "code",
        "colab": {}
      },
      "source": [
        "class Cluster:\n",
        "\n",
        "    def __init__(self):\n",
        "        self.bc = df.copy()\n",
        "\n",
        "    def get_baseline(self, col):\n",
        "        \"\"\"\n",
        "        takes in a string for column\n",
        "        return the baseline: \n",
        "        *cheating becasue we know which col is binary\n",
        "\n",
        "        \"\"\"\n",
        "        values = self.bc[col].value_counts()\n",
        "        # print(values[0],values[1])\n",
        "        # print(values.size)\n",
        "\n",
        "        # take largest value\n",
        "        base = values[0] / (values[0] + values[1])\n",
        "\n",
        "        return base\n",
        "\n",
        "    def unsupervise(self):\n",
        "        return self.bc.drop(['diagnosis', 'Unnamed: 32', 'id'], axis = 1)\n",
        "\n",
        "    def kmean(self):\n",
        "        "
      ],
      "execution_count": 0,
      "outputs": []
    },
    {
      "cell_type": "code",
      "metadata": {
        "id": "C9vKE0tPZ7-v",
        "colab_type": "code",
        "colab": {}
      },
      "source": [
        "obj = Cluster()"
      ],
      "execution_count": 0,
      "outputs": []
    },
    {
      "cell_type": "code",
      "metadata": {
        "id": "gi2M9tCbUSEw",
        "colab_type": "code",
        "colab": {}
      },
      "source": [
        "print(f'Baseline: {obj.get_baseline(\"diagnosis\")}')"
      ],
      "execution_count": 0,
      "outputs": []
    },
    {
      "cell_type": "code",
      "metadata": {
        "id": "-y6LGo_kgIBT",
        "colab_type": "code",
        "colab": {}
      },
      "source": [
        "unsup = obj.unsupervise()"
      ],
      "execution_count": 0,
      "outputs": []
    },
    {
      "cell_type": "code",
      "metadata": {
        "id": "T6FoSDLOYq3p",
        "colab_type": "code",
        "colab": {}
      },
      "source": [
        "unsup.head()"
      ],
      "execution_count": 0,
      "outputs": []
    },
    {
      "cell_type": "code",
      "metadata": {
        "id": "SasQDRjRYRYC",
        "colab_type": "code",
        "colab": {}
      },
      "source": [
        "def check_float(value):\n",
        "    if type(value) == str:\n",
        "        return -1.0\n",
        "    return value\n",
        "\n",
        "\n",
        "def check(value):\n",
        "    (lambda: b, lambda: a)[a < b]()"
      ],
      "execution_count": 0,
      "outputs": []
    },
    {
      "cell_type": "code",
      "metadata": {
        "id": "wnjTTjAU3DwU",
        "colab_type": "code",
        "colab": {}
      },
      "source": [
        "u = check_float(\"\")"
      ],
      "execution_count": 0,
      "outputs": []
    },
    {
      "cell_type": "code",
      "metadata": {
        "id": "OtpQin-I3ePj",
        "colab_type": "code",
        "outputId": "b44bf898-a1a8-429c-c5d5-5cddc3b3b4d3",
        "colab": {
          "base_uri": "https://localhost:8080/",
          "height": 34
        }
      },
      "source": [
        "print(u)"
      ],
      "execution_count": 0,
      "outputs": [
        {
          "output_type": "stream",
          "text": [
            "-1.0\n"
          ],
          "name": "stdout"
        }
      ]
    },
    {
      "cell_type": "code",
      "metadata": {
        "id": "_1xVXtz_3NGj",
        "colab_type": "code",
        "colab": {}
      },
      "source": [
        ""
      ],
      "execution_count": 0,
      "outputs": []
    },
    {
      "cell_type": "code",
      "metadata": {
        "id": "ldQAzUYCSPpW",
        "colab_type": "code",
        "outputId": "7dc0e4c3-3713-4062-f2dc-3c7c607c0942",
        "colab": {
          "base_uri": "https://localhost:8080/",
          "height": 34
        }
      },
      "source": [
        "# Python program to demonstrate ternary operator \n",
        "a = 20.0\n",
        "\n",
        "\n",
        "# # Use tuple for selecting an item \n",
        "# # (if_test_false,if_test_true)[test] \n",
        "# print( (-1.0, a) [a.is_integer()] ) \n",
        "  \n",
        "\n",
        "# # # Use Dictionary for selecting an item \n",
        "# # print({True: a, False: b} [a < b]) \n",
        "  \n",
        "# # # lamda is more efficient than above two methods \n",
        "# # # because in lambda  we are assure that \n",
        "# # # only one expression will be evaluated unlike in \n",
        "# # # tuple and Dictionary \n",
        "# # print((lambda: b, lambda: a)[a < b]()) \n"
      ],
      "execution_count": 0,
      "outputs": [
        {
          "output_type": "stream",
          "text": [
            "20.0\n"
          ],
          "name": "stdout"
        }
      ]
    },
    {
      "cell_type": "code",
      "metadata": {
        "id": "_bQwHwP5kS-6",
        "colab_type": "code",
        "colab": {}
      },
      "source": [
        ""
      ],
      "execution_count": 0,
      "outputs": []
    },
    {
      "cell_type": "code",
      "metadata": {
        "id": "oXj_lNrTZeTz",
        "colab_type": "code",
        "colab": {}
      },
      "source": [
        "import pandas as pd\n"
      ],
      "execution_count": 0,
      "outputs": []
    },
    {
      "cell_type": "code",
      "metadata": {
        "id": "K9u6Fk4-vxDs",
        "colab_type": "code",
        "colab": {}
      },
      "source": [
        " url = \"http://archive.ics.uci.edu/ml/datasets/Absenteeism+at+work/Absenteeism+at+work.data\""
      ],
      "execution_count": 0,
      "outputs": []
    },
    {
      "cell_type": "code",
      "metadata": {
        "id": "A-aWzCMvkI4g",
        "colab_type": "code",
        "outputId": "19311615-2851-4f91-c161-9ce508eddf9f",
        "colab": {
          "base_uri": "https://localhost:8080/",
          "height": 484
        }
      },
      "source": [
        "df = pd.read_csv(url)"
      ],
      "execution_count": 0,
      "outputs": [
        {
          "output_type": "error",
          "ename": "ParserError",
          "evalue": "ignored",
          "traceback": [
            "\u001b[0;31m---------------------------------------------------------------------------\u001b[0m",
            "\u001b[0;31mParserError\u001b[0m                               Traceback (most recent call last)",
            "\u001b[0;32m<ipython-input-3-7832ba498456>\u001b[0m in \u001b[0;36m<module>\u001b[0;34m()\u001b[0m\n\u001b[0;32m----> 1\u001b[0;31m \u001b[0mdf\u001b[0m \u001b[0;34m=\u001b[0m \u001b[0mpd\u001b[0m\u001b[0;34m.\u001b[0m\u001b[0mread_csv\u001b[0m\u001b[0;34m(\u001b[0m\u001b[0murl\u001b[0m\u001b[0;34m)\u001b[0m\u001b[0;34m\u001b[0m\u001b[0;34m\u001b[0m\u001b[0m\n\u001b[0m",
            "\u001b[0;32m/usr/local/lib/python3.6/dist-packages/pandas/io/parsers.py\u001b[0m in \u001b[0;36mparser_f\u001b[0;34m(filepath_or_buffer, sep, delimiter, header, names, index_col, usecols, squeeze, prefix, mangle_dupe_cols, dtype, engine, converters, true_values, false_values, skipinitialspace, skiprows, skipfooter, nrows, na_values, keep_default_na, na_filter, verbose, skip_blank_lines, parse_dates, infer_datetime_format, keep_date_col, date_parser, dayfirst, cache_dates, iterator, chunksize, compression, thousands, decimal, lineterminator, quotechar, quoting, doublequote, escapechar, comment, encoding, dialect, error_bad_lines, warn_bad_lines, delim_whitespace, low_memory, memory_map, float_precision)\u001b[0m\n\u001b[1;32m    674\u001b[0m         )\n\u001b[1;32m    675\u001b[0m \u001b[0;34m\u001b[0m\u001b[0m\n\u001b[0;32m--> 676\u001b[0;31m         \u001b[0;32mreturn\u001b[0m \u001b[0m_read\u001b[0m\u001b[0;34m(\u001b[0m\u001b[0mfilepath_or_buffer\u001b[0m\u001b[0;34m,\u001b[0m \u001b[0mkwds\u001b[0m\u001b[0;34m)\u001b[0m\u001b[0;34m\u001b[0m\u001b[0;34m\u001b[0m\u001b[0m\n\u001b[0m\u001b[1;32m    677\u001b[0m \u001b[0;34m\u001b[0m\u001b[0m\n\u001b[1;32m    678\u001b[0m     \u001b[0mparser_f\u001b[0m\u001b[0;34m.\u001b[0m\u001b[0m__name__\u001b[0m \u001b[0;34m=\u001b[0m \u001b[0mname\u001b[0m\u001b[0;34m\u001b[0m\u001b[0;34m\u001b[0m\u001b[0m\n",
            "\u001b[0;32m/usr/local/lib/python3.6/dist-packages/pandas/io/parsers.py\u001b[0m in \u001b[0;36m_read\u001b[0;34m(filepath_or_buffer, kwds)\u001b[0m\n\u001b[1;32m    452\u001b[0m \u001b[0;34m\u001b[0m\u001b[0m\n\u001b[1;32m    453\u001b[0m     \u001b[0;32mtry\u001b[0m\u001b[0;34m:\u001b[0m\u001b[0;34m\u001b[0m\u001b[0;34m\u001b[0m\u001b[0m\n\u001b[0;32m--> 454\u001b[0;31m         \u001b[0mdata\u001b[0m \u001b[0;34m=\u001b[0m \u001b[0mparser\u001b[0m\u001b[0;34m.\u001b[0m\u001b[0mread\u001b[0m\u001b[0;34m(\u001b[0m\u001b[0mnrows\u001b[0m\u001b[0;34m)\u001b[0m\u001b[0;34m\u001b[0m\u001b[0;34m\u001b[0m\u001b[0m\n\u001b[0m\u001b[1;32m    455\u001b[0m     \u001b[0;32mfinally\u001b[0m\u001b[0;34m:\u001b[0m\u001b[0;34m\u001b[0m\u001b[0;34m\u001b[0m\u001b[0m\n\u001b[1;32m    456\u001b[0m         \u001b[0mparser\u001b[0m\u001b[0;34m.\u001b[0m\u001b[0mclose\u001b[0m\u001b[0;34m(\u001b[0m\u001b[0;34m)\u001b[0m\u001b[0;34m\u001b[0m\u001b[0;34m\u001b[0m\u001b[0m\n",
            "\u001b[0;32m/usr/local/lib/python3.6/dist-packages/pandas/io/parsers.py\u001b[0m in \u001b[0;36mread\u001b[0;34m(self, nrows)\u001b[0m\n\u001b[1;32m   1131\u001b[0m     \u001b[0;32mdef\u001b[0m \u001b[0mread\u001b[0m\u001b[0;34m(\u001b[0m\u001b[0mself\u001b[0m\u001b[0;34m,\u001b[0m \u001b[0mnrows\u001b[0m\u001b[0;34m=\u001b[0m\u001b[0;32mNone\u001b[0m\u001b[0;34m)\u001b[0m\u001b[0;34m:\u001b[0m\u001b[0;34m\u001b[0m\u001b[0;34m\u001b[0m\u001b[0m\n\u001b[1;32m   1132\u001b[0m         \u001b[0mnrows\u001b[0m \u001b[0;34m=\u001b[0m \u001b[0m_validate_integer\u001b[0m\u001b[0;34m(\u001b[0m\u001b[0;34m\"nrows\"\u001b[0m\u001b[0;34m,\u001b[0m \u001b[0mnrows\u001b[0m\u001b[0;34m)\u001b[0m\u001b[0;34m\u001b[0m\u001b[0;34m\u001b[0m\u001b[0m\n\u001b[0;32m-> 1133\u001b[0;31m         \u001b[0mret\u001b[0m \u001b[0;34m=\u001b[0m \u001b[0mself\u001b[0m\u001b[0;34m.\u001b[0m\u001b[0m_engine\u001b[0m\u001b[0;34m.\u001b[0m\u001b[0mread\u001b[0m\u001b[0;34m(\u001b[0m\u001b[0mnrows\u001b[0m\u001b[0;34m)\u001b[0m\u001b[0;34m\u001b[0m\u001b[0;34m\u001b[0m\u001b[0m\n\u001b[0m\u001b[1;32m   1134\u001b[0m \u001b[0;34m\u001b[0m\u001b[0m\n\u001b[1;32m   1135\u001b[0m         \u001b[0;31m# May alter columns / col_dict\u001b[0m\u001b[0;34m\u001b[0m\u001b[0;34m\u001b[0m\u001b[0;34m\u001b[0m\u001b[0m\n",
            "\u001b[0;32m/usr/local/lib/python3.6/dist-packages/pandas/io/parsers.py\u001b[0m in \u001b[0;36mread\u001b[0;34m(self, nrows)\u001b[0m\n\u001b[1;32m   2035\u001b[0m     \u001b[0;32mdef\u001b[0m \u001b[0mread\u001b[0m\u001b[0;34m(\u001b[0m\u001b[0mself\u001b[0m\u001b[0;34m,\u001b[0m \u001b[0mnrows\u001b[0m\u001b[0;34m=\u001b[0m\u001b[0;32mNone\u001b[0m\u001b[0;34m)\u001b[0m\u001b[0;34m:\u001b[0m\u001b[0;34m\u001b[0m\u001b[0;34m\u001b[0m\u001b[0m\n\u001b[1;32m   2036\u001b[0m         \u001b[0;32mtry\u001b[0m\u001b[0;34m:\u001b[0m\u001b[0;34m\u001b[0m\u001b[0;34m\u001b[0m\u001b[0m\n\u001b[0;32m-> 2037\u001b[0;31m             \u001b[0mdata\u001b[0m \u001b[0;34m=\u001b[0m \u001b[0mself\u001b[0m\u001b[0;34m.\u001b[0m\u001b[0m_reader\u001b[0m\u001b[0;34m.\u001b[0m\u001b[0mread\u001b[0m\u001b[0;34m(\u001b[0m\u001b[0mnrows\u001b[0m\u001b[0;34m)\u001b[0m\u001b[0;34m\u001b[0m\u001b[0;34m\u001b[0m\u001b[0m\n\u001b[0m\u001b[1;32m   2038\u001b[0m         \u001b[0;32mexcept\u001b[0m \u001b[0mStopIteration\u001b[0m\u001b[0;34m:\u001b[0m\u001b[0;34m\u001b[0m\u001b[0;34m\u001b[0m\u001b[0m\n\u001b[1;32m   2039\u001b[0m             \u001b[0;32mif\u001b[0m \u001b[0mself\u001b[0m\u001b[0;34m.\u001b[0m\u001b[0m_first_chunk\u001b[0m\u001b[0;34m:\u001b[0m\u001b[0;34m\u001b[0m\u001b[0;34m\u001b[0m\u001b[0m\n",
            "\u001b[0;32mpandas/_libs/parsers.pyx\u001b[0m in \u001b[0;36mpandas._libs.parsers.TextReader.read\u001b[0;34m()\u001b[0m\n",
            "\u001b[0;32mpandas/_libs/parsers.pyx\u001b[0m in \u001b[0;36mpandas._libs.parsers.TextReader._read_low_memory\u001b[0;34m()\u001b[0m\n",
            "\u001b[0;32mpandas/_libs/parsers.pyx\u001b[0m in \u001b[0;36mpandas._libs.parsers.TextReader._read_rows\u001b[0;34m()\u001b[0m\n",
            "\u001b[0;32mpandas/_libs/parsers.pyx\u001b[0m in \u001b[0;36mpandas._libs.parsers.TextReader._tokenize_rows\u001b[0;34m()\u001b[0m\n",
            "\u001b[0;32mpandas/_libs/parsers.pyx\u001b[0m in \u001b[0;36mpandas._libs.parsers.raise_parser_error\u001b[0;34m()\u001b[0m\n",
            "\u001b[0;31mParserError\u001b[0m: Error tokenizing data. C error: Expected 1 fields in line 39, saw 2\n"
          ]
        }
      ]
    }
  ]
}